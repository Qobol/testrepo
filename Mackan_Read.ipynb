{
    "cells": [
        {
            "cell_type": "code",
            "execution_count": 8,
            "metadata": {},
            "outputs": [],
            "source": "# The code was removed by Watson Studio for sharing."
        },
        {
            "cell_type": "code",
            "execution_count": 2,
            "metadata": {},
            "outputs": [],
            "source": "print(\"Hello\")"
        },
        {
            "cell_type": "code",
            "execution_count": 9,
            "metadata": {},
            "outputs": [],
            "source": "table_0 = pd.read_excel(io.BytesIO(body.read())) "
        },
        {
            "cell_type": "code",
            "execution_count": 21,
            "metadata": {},
            "outputs": [],
            "source": "table_1 = table_0.iloc[6:14,0:10]"
        },
        {
            "cell_type": "code",
            "execution_count": 36,
            "metadata": {},
            "outputs": [],
            "source": "table_1.columns = table_1.iloc[0,:]\n#table_1.iloc[0]"
        },
        {
            "cell_type": "code",
            "execution_count": 40,
            "metadata": {},
            "outputs": [],
            "source": "table_1 = table_1.iloc[1:,0:]"
        },
        {
            "cell_type": "code",
            "execution_count": 42,
            "metadata": {},
            "outputs": [],
            "source": "table_1.reset_index(drop=True, inplace=True)"
        },
        {
            "cell_type": "code",
            "execution_count": 45,
            "metadata": {},
            "outputs": [],
            "source": ""
        },
        {
            "cell_type": "code",
            "execution_count": 46,
            "metadata": {},
            "outputs": [
                {
                    "data": {
                        "text/plain": "{'file_name': 'table_1.csv',\n 'message': 'File saved to project storage.',\n 'bucket_name': 'mackan-donotdelete-pr-uyvkwgspxdgnlb',\n 'asset_id': 'aaabf2eb-efd8-42a1-a9dd-068ae25bbf7f'}"
                    },
                    "execution_count": 46,
                    "metadata": {},
                    "output_type": "execute_result"
                }
            ],
            "source": "project.save_data(data=table_1.to_csv(index=False),file_name='table_1.csv',overwrite=True)"
        },
        {
            "cell_type": "code",
            "execution_count": 47,
            "metadata": {},
            "outputs": [
                {
                    "data": {
                        "text/html": "<div>\n<style scoped>\n    .dataframe tbody tr th:only-of-type {\n        vertical-align: middle;\n    }\n\n    .dataframe tbody tr th {\n        vertical-align: top;\n    }\n\n    .dataframe thead th {\n        text-align: right;\n    }\n</style>\n<table border=\"1\" class=\"dataframe\">\n  <thead>\n    <tr style=\"text-align: right;\">\n      <th>6</th>\n      <th>Media</th>\n      <th>Total Briefed 2022 Budget \\nPitch Year (LC)</th>\n      <th>Total 2022 Template Spend \\nPitch Year (LC)</th>\n      <th>Pitch Year 2021 Market Inflation Index \\nvs. Base Year 2020 Index 100</th>\n      <th>Pitch Year 2021 Client Index \\nvs. Base Year 2020 Index 100</th>\n      <th>Inflation Mitigation %</th>\n      <th>Cost Reduction %</th>\n      <th>Total Savings (%)\\nPitch Year 1</th>\n      <th>Cost Reduction Value (LC)\\nPitch Year 1</th>\n      <th>Total Savings Value (LC)\\nPitch Year 1</th>\n    </tr>\n  </thead>\n  <tbody>\n    <tr>\n      <th>0</th>\n      <td>TV</td>\n      <td>200000</td>\n      <td>100000</td>\n      <td>110</td>\n      <td>95</td>\n      <td>0.1</td>\n      <td>0.05</td>\n      <td>0.136364</td>\n      <td>5263.16</td>\n      <td>15789.5</td>\n    </tr>\n    <tr>\n      <th>1</th>\n      <td>Newspapers</td>\n      <td>125332</td>\n      <td>45826.3</td>\n      <td>97.3484</td>\n      <td>86.0912</td>\n      <td>-0.0265156</td>\n      <td>0.139088</td>\n      <td>0.115638</td>\n      <td>7403.62</td>\n      <td>5992.2</td>\n    </tr>\n    <tr>\n      <th>2</th>\n      <td>Magazines</td>\n      <td>3566.07</td>\n      <td>17700</td>\n      <td>107.778</td>\n      <td>83.6649</td>\n      <td>0.0777767</td>\n      <td>0.163351</td>\n      <td>0.223727</td>\n      <td>3455.82</td>\n      <td>5101.25</td>\n    </tr>\n    <tr>\n      <th>3</th>\n      <td>Radio</td>\n      <td>45046</td>\n      <td>83039.9</td>\n      <td>106.818</td>\n      <td>8.32215</td>\n      <td>0.0681791</td>\n      <td>0.916779</td>\n      <td>0.92209</td>\n      <td>914779</td>\n      <td>982809</td>\n    </tr>\n    <tr>\n      <th>4</th>\n      <td>OOH</td>\n      <td>47349.7</td>\n      <td>70113.1</td>\n      <td>89.4742</td>\n      <td>6.65712</td>\n      <td>-0.105258</td>\n      <td>0.933429</td>\n      <td>0.925597</td>\n      <td>983092</td>\n      <td>872234</td>\n    </tr>\n    <tr>\n      <th>5</th>\n      <td>Digital</td>\n      <td>120958</td>\n      <td>53698.3</td>\n      <td>105.854</td>\n      <td>26.1239</td>\n      <td>0.058544</td>\n      <td>0.738761</td>\n      <td>0.753209</td>\n      <td>151854</td>\n      <td>163888</td>\n    </tr>\n    <tr>\n      <th>6</th>\n      <td>Digital Video</td>\n      <td>198504</td>\n      <td>84033.2</td>\n      <td>104.656</td>\n      <td>60.374</td>\n      <td>0.046556</td>\n      <td>0.39626</td>\n      <td>0.423118</td>\n      <td>55154.6</td>\n      <td>61634.6</td>\n    </tr>\n  </tbody>\n</table>\n</div>",
                        "text/plain": "6          Media Total Briefed 2022 Budget \\nPitch Year (LC)  \\\n0             TV                                      200000   \n1     Newspapers                                      125332   \n2      Magazines                                     3566.07   \n3          Radio                                       45046   \n4            OOH                                     47349.7   \n5        Digital                                      120958   \n6  Digital Video                                      198504   \n\n6 Total 2022 Template Spend \\nPitch Year (LC)  \\\n0                                      100000   \n1                                     45826.3   \n2                                       17700   \n3                                     83039.9   \n4                                     70113.1   \n5                                     53698.3   \n6                                     84033.2   \n\n6 Pitch Year 2021 Market Inflation Index \\nvs. Base Year 2020 Index 100  \\\n0                                                110                      \n1                                            97.3484                      \n2                                            107.778                      \n3                                            106.818                      \n4                                            89.4742                      \n5                                            105.854                      \n6                                            104.656                      \n\n6 Pitch Year 2021 Client Index \\nvs. Base Year 2020 Index 100  \\\n0                                                 95            \n1                                            86.0912            \n2                                            83.6649            \n3                                            8.32215            \n4                                            6.65712            \n5                                            26.1239            \n6                                             60.374            \n\n6 Inflation Mitigation % Cost Reduction % Total Savings (%)\\nPitch Year 1  \\\n0                    0.1             0.05                        0.136364   \n1             -0.0265156         0.139088                        0.115638   \n2              0.0777767         0.163351                        0.223727   \n3              0.0681791         0.916779                         0.92209   \n4              -0.105258         0.933429                        0.925597   \n5               0.058544         0.738761                        0.753209   \n6               0.046556          0.39626                        0.423118   \n\n6 Cost Reduction Value (LC)\\nPitch Year 1  \\\n0                                 5263.16   \n1                                 7403.62   \n2                                 3455.82   \n3                                  914779   \n4                                  983092   \n5                                  151854   \n6                                 55154.6   \n\n6 Total Savings Value (LC)\\nPitch Year 1  \n0                                15789.5  \n1                                 5992.2  \n2                                5101.25  \n3                                 982809  \n4                                 872234  \n5                                 163888  \n6                                61634.6  "
                    },
                    "execution_count": 47,
                    "metadata": {},
                    "output_type": "execute_result"
                }
            ],
            "source": "table_1"
        }
    ],
    "metadata": {
        "kernelspec": {
            "display_name": "Python 3.7",
            "language": "python",
            "name": "python3"
        },
        "language_info": {
            "codemirror_mode": {
                "name": "ipython",
                "version": 3
            },
            "file_extension": ".py",
            "mimetype": "text/x-python",
            "name": "python",
            "nbconvert_exporter": "python",
            "pygments_lexer": "ipython3",
            "version": "3.7.11"
        }
    },
    "nbformat": 4,
    "nbformat_minor": 1
}